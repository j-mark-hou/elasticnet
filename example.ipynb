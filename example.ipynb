{
 "cells": [
  {
   "cell_type": "code",
   "execution_count": 6,
   "metadata": {},
   "outputs": [
    {
     "name": "stdout",
     "output_type": "stream",
     "text": [
      "The autoreload extension is already loaded. To reload it, use:\n",
      "  %reload_ext autoreload\n"
     ]
    }
   ],
   "source": [
    "%load_ext autoreload\n",
    "%autoreload 2\n",
    "%matplotlib inline"
   ]
  },
  {
   "cell_type": "code",
   "execution_count": 7,
   "metadata": {},
   "outputs": [],
   "source": [
    "import elasticnet\n",
    "import numpy as np"
   ]
  },
  {
   "cell_type": "code",
   "execution_count": 8,
   "metadata": {},
   "outputs": [],
   "source": [
    "# data\n",
    "N,D = 100, 5\n",
    "x = np.random.uniform(size=(N,D))\n",
    "# compute y.  coefs are [0, -1, 2, 0, -4, 5, 0, -7, -8, ...]\n",
    "true_intercept = -1\n",
    "true_params = []\n",
    "y = np.zeros(N) + true_intercept\n",
    "for j in range(D):\n",
    "    jmod3 = j%3\n",
    "    if jmod3==0:   coef = 0\n",
    "    elif jmod3==1: coef = -j\n",
    "    else:          coef = j\n",
    "    true_params.append(coef)\n",
    "    y += ((x[:,j]- x[:,j].mean()) / x[:,j].std()) * coef"
   ]
  },
  {
   "cell_type": "code",
   "execution_count": 9,
   "metadata": {},
   "outputs": [
    {
     "data": {
      "text/plain": [
       "array([0.48185325, 0.50963421, 0.52244457, 0.52231117, 0.50421344])"
      ]
     },
     "metadata": {},
     "output_type": "display_data"
    },
    {
     "data": {
      "text/plain": [
       "array([0.30320468, 0.29087065, 0.2695697 , 0.28566663, 0.23729409])"
      ]
     },
     "metadata": {},
     "output_type": "display_data"
    }
   ],
   "source": [
    "#  construct the data\n",
    "data = elasticnet.Data(x,y, num_threads=4)\n",
    "\n",
    "# look at means and stds of the standardized data\n",
    "display(data.get_means())\n",
    "display(data.get_stds())"
   ]
  },
  {
   "cell_type": "code",
   "execution_count": 10,
   "metadata": {},
   "outputs": [
    {
     "name": "stdout",
     "output_type": "stream",
     "text": [
      "estimating coefficients for lambda = 1.000e-03\n",
      "estimating coefficients for lambda = 2.783e-03\n",
      "estimating coefficients for lambda = 7.743e-03\n",
      "estimating coefficients for lambda = 2.154e-02\n",
      "estimating coefficients for lambda = 5.995e-02\n",
      "estimating coefficients for lambda = 1.668e-01\n",
      "estimating coefficients for lambda = 4.642e-01\n",
      "estimating coefficients for lambda = 1.292e+00\n",
      "estimating coefficients for lambda = 3.594e+00\n",
      "estimating coefficients for lambda = 1.000e+01\n"
     ]
    }
   ],
   "source": [
    "params = {\n",
    "    'lambda_path' : np.logspace(-3, 1, 10)\n",
    "}\n",
    "models = elasticnet.train(data, params)"
   ]
  },
  {
   "cell_type": "code",
   "execution_count": 11,
   "metadata": {},
   "outputs": [
    {
     "data": {
      "text/plain": [
       "{'lambda_path': [0.001,\n",
       "  0.0027825594022071257,\n",
       "  0.007742636826811269,\n",
       "  0.021544346900318832,\n",
       "  0.05994842503189409,\n",
       "  0.1668100537200059,\n",
       "  0.46415888336127775,\n",
       "  1.2915496650148828,\n",
       "  3.593813663804626,\n",
       "  10.0],\n",
       " 'objective': 'l2',\n",
       " 'reg_alpha': 0.5,\n",
       " 'tol': 0.001,\n",
       " 'max_coord_descent_rounds': 1000,\n",
       " 'num_threads': 4}"
      ]
     },
     "execution_count": 11,
     "metadata": {},
     "output_type": "execute_result"
    }
   ],
   "source": [
    "models.params"
   ]
  },
  {
   "cell_type": "code",
   "execution_count": 12,
   "metadata": {},
   "outputs": [
    {
     "data": {
      "image/png": "[encoded data removed]",
      "text/plain": [
       "<Figure size 432x288 with 1 Axes>"
      ]
     },
     "metadata": {},
     "output_type": "display_data"
    }
   ],
   "source": [
    "intercepts_coefs = models.plot_intercept_coefs()"
   ]
  },
  {
   "cell_type": "code",
   "execution_count": 13,
   "metadata": {},
   "outputs": [
    {
     "data": {
      "text/html": [
       "<div>\n",
       "<style scoped>\n",
       "    .dataframe tbody tr th:only-of-type {\n",
       "        vertical-align: middle;\n",
       "    }\n",
       "\n",
       "    .dataframe tbody tr th {\n",
       "        vertical-align: top;\n",
       "    }\n",
       "\n",
       "    .dataframe thead th {\n",
       "        text-align: right;\n",
       "    }\n",
       "</style>\n",
       "<table border=\"1\" class=\"dataframe\">\n",
       "  <thead>\n",
       "    <tr style=\"text-align: right;\">\n",
       "      <th></th>\n",
       "      <th>coef_0</th>\n",
       "      <th>coef_1</th>\n",
       "      <th>coef_2</th>\n",
       "      <th>coef_3</th>\n",
       "      <th>coef_4</th>\n",
       "      <th>intercept</th>\n",
       "    </tr>\n",
       "    <tr>\n",
       "      <th>reg_lambda</th>\n",
       "      <th></th>\n",
       "      <th></th>\n",
       "      <th></th>\n",
       "      <th></th>\n",
       "      <th></th>\n",
       "      <th></th>\n",
       "    </tr>\n",
       "  </thead>\n",
       "  <tbody>\n",
       "    <tr>\n",
       "      <th>10.000000</th>\n",
       "      <td>0.0</td>\n",
       "      <td>0.000000</td>\n",
       "      <td>0.000000</td>\n",
       "      <td>0.0</td>\n",
       "      <td>0.000000</td>\n",
       "      <td>-1.0</td>\n",
       "    </tr>\n",
       "    <tr>\n",
       "      <th>3.593814</th>\n",
       "      <td>0.0</td>\n",
       "      <td>0.000000</td>\n",
       "      <td>0.258760</td>\n",
       "      <td>0.0</td>\n",
       "      <td>-0.914577</td>\n",
       "      <td>-1.0</td>\n",
       "    </tr>\n",
       "    <tr>\n",
       "      <th>1.291550</th>\n",
       "      <td>0.0</td>\n",
       "      <td>-0.331076</td>\n",
       "      <td>1.012696</td>\n",
       "      <td>0.0</td>\n",
       "      <td>-2.165493</td>\n",
       "      <td>-1.0</td>\n",
       "    </tr>\n",
       "    <tr>\n",
       "      <th>0.464159</th>\n",
       "      <td>0.0</td>\n",
       "      <td>-0.695601</td>\n",
       "      <td>1.554108</td>\n",
       "      <td>0.0</td>\n",
       "      <td>-3.135197</td>\n",
       "      <td>-1.0</td>\n",
       "    </tr>\n",
       "    <tr>\n",
       "      <th>0.166810</th>\n",
       "      <td>0.0</td>\n",
       "      <td>-0.879188</td>\n",
       "      <td>1.823865</td>\n",
       "      <td>0.0</td>\n",
       "      <td>-3.649721</td>\n",
       "      <td>-1.0</td>\n",
       "    </tr>\n",
       "    <tr>\n",
       "      <th>0.059948</th>\n",
       "      <td>0.0</td>\n",
       "      <td>-0.954904</td>\n",
       "      <td>1.934396</td>\n",
       "      <td>0.0</td>\n",
       "      <td>-3.868070</td>\n",
       "      <td>-1.0</td>\n",
       "    </tr>\n",
       "    <tr>\n",
       "      <th>0.021544</th>\n",
       "      <td>0.0</td>\n",
       "      <td>-0.983566</td>\n",
       "      <td>1.976113</td>\n",
       "      <td>0.0</td>\n",
       "      <td>-3.951753</td>\n",
       "      <td>-1.0</td>\n",
       "    </tr>\n",
       "    <tr>\n",
       "      <th>0.007743</th>\n",
       "      <td>0.0</td>\n",
       "      <td>-0.994064</td>\n",
       "      <td>1.991375</td>\n",
       "      <td>0.0</td>\n",
       "      <td>-3.982550</td>\n",
       "      <td>-1.0</td>\n",
       "    </tr>\n",
       "    <tr>\n",
       "      <th>0.002783</th>\n",
       "      <td>0.0</td>\n",
       "      <td>-0.997863</td>\n",
       "      <td>1.996895</td>\n",
       "      <td>0.0</td>\n",
       "      <td>-3.993715</td>\n",
       "      <td>-1.0</td>\n",
       "    </tr>\n",
       "    <tr>\n",
       "      <th>0.001000</th>\n",
       "      <td>0.0</td>\n",
       "      <td>-0.999231</td>\n",
       "      <td>1.998883</td>\n",
       "      <td>0.0</td>\n",
       "      <td>-3.997739</td>\n",
       "      <td>-1.0</td>\n",
       "    </tr>\n",
       "  </tbody>\n",
       "</table>\n",
       "</div>"
      ],
      "text/plain": [
       "            coef_0    coef_1    coef_2  coef_3    coef_4  intercept\n",
       "reg_lambda                                                         \n",
       "10.000000      0.0  0.000000  0.000000     0.0  0.000000       -1.0\n",
       "3.593814       0.0  0.000000  0.258760     0.0 -0.914577       -1.0\n",
       "1.291550       0.0 -0.331076  1.012696     0.0 -2.165493       -1.0\n",
       "0.464159       0.0 -0.695601  1.554108     0.0 -3.135197       -1.0\n",
       "0.166810       0.0 -0.879188  1.823865     0.0 -3.649721       -1.0\n",
       "0.059948       0.0 -0.954904  1.934396     0.0 -3.868070       -1.0\n",
       "0.021544       0.0 -0.983566  1.976113     0.0 -3.951753       -1.0\n",
       "0.007743       0.0 -0.994064  1.991375     0.0 -3.982550       -1.0\n",
       "0.002783       0.0 -0.997863  1.996895     0.0 -3.993715       -1.0\n",
       "0.001000       0.0 -0.999231  1.998883     0.0 -3.997739       -1.0"
      ]
     },
     "metadata": {},
     "output_type": "display_data"
    }
   ],
   "source": [
    "display(intercepts_coefs)"
   ]
  }
 ],
 "metadata": {
  "kernelspec": {
   "display_name": "Python 3",
   "language": "python",
   "name": "python3"
  },
  "language_info": {
   "codemirror_mode": {
    "name": "ipython",
    "version": 3
   },
   "file_extension": ".py",
   "mimetype": "text/x-python",
   "name": "python",
   "nbconvert_exporter": "python",
   "pygments_lexer": "ipython3",
   "version": "3.6.5"
  }
 },
 "nbformat": 4,
 "nbformat_minor": 2
}
