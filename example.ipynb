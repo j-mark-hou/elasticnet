{
 "cells": [
  {
   "cell_type": "code",
   "execution_count": 34,
   "metadata": {},
   "outputs": [
    {
     "name": "stdout",
     "output_type": "stream",
     "text": [
      "The autoreload extension is already loaded. To reload it, use:\n",
      "  %reload_ext autoreload\n"
     ]
    }
   ],
   "source": [
    "%load_ext autoreload\n",
    "%autoreload 2\n",
    "%matplotlib inline"
   ]
  },
  {
   "cell_type": "code",
   "execution_count": 35,
   "metadata": {},
   "outputs": [],
   "source": [
    "import elasticnet\n",
    "import numpy as np"
   ]
  },
  {
   "cell_type": "code",
   "execution_count": 36,
   "metadata": {},
   "outputs": [],
   "source": [
    "# data\n",
    "N,D = 100, 5\n",
    "x = np.random.uniform(size=(N,D))\n",
    "# compute y.  coefs are [0, -1, 2, 0, -4, 5, 0, -7, -8, ...]\n",
    "true_intercept = -1\n",
    "true_params = []\n",
    "y = np.zeros(N) + true_intercept\n",
    "for j in range(D):\n",
    "    jmod3 = j%3\n",
    "    if jmod3==0:   coef = 0\n",
    "    elif jmod3==1: coef = -j\n",
    "    else:          coef = j\n",
    "    true_params.append(coef)\n",
    "    y += ((x[:,j]- x[:,j].mean()) / x[:,j].std()) * coef"
   ]
  },
  {
   "cell_type": "code",
   "execution_count": 40,
   "metadata": {},
   "outputs": [
    {
     "name": "stdout",
     "output_type": "stream",
     "text": [
      "estimating coefficients for lambda = 1.000e-03\n",
      "estimating coefficients for lambda = 2.783e-03\n",
      "estimating coefficients for lambda = 7.743e-03\n",
      "estimating coefficients for lambda = 2.154e-02\n",
      "estimating coefficients for lambda = 5.995e-02\n",
      "estimating coefficients for lambda = 1.668e-01\n",
      "estimating coefficients for lambda = 4.642e-01\n",
      "estimating coefficients for lambda = 1.292e+00\n",
      "estimating coefficients for lambda = 3.594e+00\n",
      "estimating coefficients for lambda = 1.000e+01\n"
     ]
    }
   ],
   "source": [
    "params = {\n",
    "    'lambda_path' : np.logspace(-3, 1, 10)\n",
    "}\n",
    "models = elasticnet.train(x, y, params)"
   ]
  },
  {
   "cell_type": "code",
   "execution_count": 41,
   "metadata": {},
   "outputs": [
    {
     "data": {
      "text/plain": [
       "{'lambda_path': [0.001,\n",
       "  0.0027825594022071257,\n",
       "  0.007742636826811269,\n",
       "  0.021544346900318832,\n",
       "  0.05994842503189409,\n",
       "  0.1668100537200059,\n",
       "  0.46415888336127775,\n",
       "  1.2915496650148828,\n",
       "  3.593813663804626,\n",
       "  10.0],\n",
       " 'objective': 'l2',\n",
       " 'reg_alpha': 0.5,\n",
       " 'tol': 0.001,\n",
       " 'max_coord_descent_rounds': 1000,\n",
       " 'num_threads': 4}"
      ]
     },
     "execution_count": 41,
     "metadata": {},
     "output_type": "execute_result"
    }
   ],
   "source": [
    "models.params"
   ]
  },
  {
   "cell_type": "code",
   "execution_count": 54,
   "metadata": {},
   "outputs": [
    {
     "data": {
      "image/png": "[encoded data removed]",
      "text/plain": [
       "<Figure size 432x288 with 1 Axes>"
      ]
     },
     "metadata": {},
     "output_type": "display_data"
    }
   ],
   "source": [
    "intercepts_coefs = models.plot_intercept_coefs()"
   ]
  },
  {
   "cell_type": "code",
   "execution_count": 55,
   "metadata": {},
   "outputs": [
    {
     "data": {
      "text/html": [
       "<div>\n",
       "<style scoped>\n",
       "    .dataframe tbody tr th:only-of-type {\n",
       "        vertical-align: middle;\n",
       "    }\n",
       "\n",
       "    .dataframe tbody tr th {\n",
       "        vertical-align: top;\n",
       "    }\n",
       "\n",
       "    .dataframe thead th {\n",
       "        text-align: right;\n",
       "    }\n",
       "</style>\n",
       "<table border=\"1\" class=\"dataframe\">\n",
       "  <thead>\n",
       "    <tr style=\"text-align: right;\">\n",
       "      <th></th>\n",
       "      <th>coef_0</th>\n",
       "      <th>coef_1</th>\n",
       "      <th>coef_2</th>\n",
       "      <th>coef_3</th>\n",
       "      <th>coef_4</th>\n",
       "      <th>intercept</th>\n",
       "    </tr>\n",
       "    <tr>\n",
       "      <th>reg_lambda</th>\n",
       "      <th></th>\n",
       "      <th></th>\n",
       "      <th></th>\n",
       "      <th></th>\n",
       "      <th></th>\n",
       "      <th></th>\n",
       "    </tr>\n",
       "  </thead>\n",
       "  <tbody>\n",
       "    <tr>\n",
       "      <th>10.000000</th>\n",
       "      <td>0.0</td>\n",
       "      <td>0.000000</td>\n",
       "      <td>0.000000</td>\n",
       "      <td>0.0</td>\n",
       "      <td>0.000000</td>\n",
       "      <td>-1.0</td>\n",
       "    </tr>\n",
       "    <tr>\n",
       "      <th>3.593814</th>\n",
       "      <td>0.0</td>\n",
       "      <td>0.000000</td>\n",
       "      <td>0.030120</td>\n",
       "      <td>0.0</td>\n",
       "      <td>-0.848584</td>\n",
       "      <td>-1.0</td>\n",
       "    </tr>\n",
       "    <tr>\n",
       "      <th>1.291550</th>\n",
       "      <td>0.0</td>\n",
       "      <td>-0.301681</td>\n",
       "      <td>0.771584</td>\n",
       "      <td>0.0</td>\n",
       "      <td>-2.109954</td>\n",
       "      <td>-1.0</td>\n",
       "    </tr>\n",
       "    <tr>\n",
       "      <th>0.464159</th>\n",
       "      <td>0.0</td>\n",
       "      <td>-0.676630</td>\n",
       "      <td>1.403277</td>\n",
       "      <td>0.0</td>\n",
       "      <td>-3.102736</td>\n",
       "      <td>-1.0</td>\n",
       "    </tr>\n",
       "    <tr>\n",
       "      <th>0.166810</th>\n",
       "      <td>0.0</td>\n",
       "      <td>-0.870331</td>\n",
       "      <td>1.754643</td>\n",
       "      <td>0.0</td>\n",
       "      <td>-3.635423</td>\n",
       "      <td>-1.0</td>\n",
       "    </tr>\n",
       "    <tr>\n",
       "      <th>0.059948</th>\n",
       "      <td>0.0</td>\n",
       "      <td>-0.951375</td>\n",
       "      <td>1.907016</td>\n",
       "      <td>0.0</td>\n",
       "      <td>-3.862519</td>\n",
       "      <td>-1.0</td>\n",
       "    </tr>\n",
       "    <tr>\n",
       "      <th>0.021544</th>\n",
       "      <td>0.0</td>\n",
       "      <td>-0.982248</td>\n",
       "      <td>1.965916</td>\n",
       "      <td>0.0</td>\n",
       "      <td>-3.949701</td>\n",
       "      <td>-1.0</td>\n",
       "    </tr>\n",
       "    <tr>\n",
       "      <th>0.007743</th>\n",
       "      <td>0.0</td>\n",
       "      <td>-0.993582</td>\n",
       "      <td>1.987662</td>\n",
       "      <td>0.0</td>\n",
       "      <td>-3.981806</td>\n",
       "      <td>-1.0</td>\n",
       "    </tr>\n",
       "    <tr>\n",
       "      <th>0.002783</th>\n",
       "      <td>0.0</td>\n",
       "      <td>-0.997689</td>\n",
       "      <td>1.995554</td>\n",
       "      <td>0.0</td>\n",
       "      <td>-3.993446</td>\n",
       "      <td>-1.0</td>\n",
       "    </tr>\n",
       "    <tr>\n",
       "      <th>0.001000</th>\n",
       "      <td>0.0</td>\n",
       "      <td>-0.999151</td>\n",
       "      <td>1.998398</td>\n",
       "      <td>0.0</td>\n",
       "      <td>-3.997646</td>\n",
       "      <td>-1.0</td>\n",
       "    </tr>\n",
       "  </tbody>\n",
       "</table>\n",
       "</div>"
      ],
      "text/plain": [
       "            coef_0    coef_1    coef_2  coef_3    coef_4  intercept\n",
       "reg_lambda                                                         \n",
       "10.000000      0.0  0.000000  0.000000     0.0  0.000000       -1.0\n",
       "3.593814       0.0  0.000000  0.030120     0.0 -0.848584       -1.0\n",
       "1.291550       0.0 -0.301681  0.771584     0.0 -2.109954       -1.0\n",
       "0.464159       0.0 -0.676630  1.403277     0.0 -3.102736       -1.0\n",
       "0.166810       0.0 -0.870331  1.754643     0.0 -3.635423       -1.0\n",
       "0.059948       0.0 -0.951375  1.907016     0.0 -3.862519       -1.0\n",
       "0.021544       0.0 -0.982248  1.965916     0.0 -3.949701       -1.0\n",
       "0.007743       0.0 -0.993582  1.987662     0.0 -3.981806       -1.0\n",
       "0.002783       0.0 -0.997689  1.995554     0.0 -3.993446       -1.0\n",
       "0.001000       0.0 -0.999151  1.998398     0.0 -3.997646       -1.0"
      ]
     },
     "metadata": {},
     "output_type": "display_data"
    }
   ],
   "source": [
    "display(intercepts_coefs)"
   ]
  }
 ],
 "metadata": {
  "kernelspec": {
   "display_name": "Python 3",
   "language": "python",
   "name": "python3"
  },
  "language_info": {
   "codemirror_mode": {
    "name": "ipython",
    "version": 3
   },
   "file_extension": ".py",
   "mimetype": "text/x-python",
   "name": "python",
   "nbconvert_exporter": "python",
   "pygments_lexer": "ipython3",
   "version": "3.6.5"
  }
 },
 "nbformat": 4,
 "nbformat_minor": 2
}
