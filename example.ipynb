{
 "cells": [
  {
   "cell_type": "code",
   "execution_count": 1,
   "metadata": {},
   "outputs": [],
   "source": [
    "%load_ext autoreload\n",
    "%autoreload 2\n",
    "%matplotlib inline"
   ]
  },
  {
   "cell_type": "code",
   "execution_count": 2,
   "metadata": {},
   "outputs": [],
   "source": [
    "import elasticnet\n",
    "import numpy as np"
   ]
  },
  {
   "cell_type": "code",
   "execution_count": 3,
   "metadata": {},
   "outputs": [],
   "source": [
    "# data\n",
    "N,D = 100, 5\n",
    "x = np.random.uniform(size=(N,D))\n",
    "# compute y.  coefs are [0, -1, 2, 0, -4, 5, 0, -7, -8, ...]\n",
    "true_intercept = -1\n",
    "true_params = []\n",
    "y = np.zeros(N) + true_intercept\n",
    "for j in range(D):\n",
    "    jmod3 = j%3\n",
    "    if jmod3==0:   coef = 0\n",
    "    elif jmod3==1: coef = -j\n",
    "    else:          coef = j\n",
    "    true_params.append(coef)\n",
    "    y += ((x[:,j]- x[:,j].mean()) / x[:,j].std()) * coef"
   ]
  },
  {
   "cell_type": "code",
   "execution_count": 4,
   "metadata": {},
   "outputs": [
    {
     "data": {
      "text/plain": [
       "array([0.48538753, 0.51935747, 0.43276701, 0.49351858, 0.48201161])"
      ]
     },
     "metadata": {},
     "output_type": "display_data"
    },
    {
     "data": {
      "text/plain": [
       "array([0.28640961, 0.29768993, 0.27883056, 0.27821997, 0.28804739])"
      ]
     },
     "metadata": {},
     "output_type": "display_data"
    }
   ],
   "source": [
    "#  construct the data\n",
    "data = elasticnet.Data(x,y, num_threads=4)\n",
    "\n",
    "# look at means and stds of the standardized data\n",
    "display(data.get_means())\n",
    "display(data.get_stds())"
   ]
  },
  {
   "cell_type": "code",
   "execution_count": 5,
   "metadata": {},
   "outputs": [
    {
     "name": "stdout",
     "output_type": "stream",
     "text": [
      "estimating coefficients for lambda = 1.000e+01\n",
      "estimating coefficients for lambda = 3.594e+00\n",
      "estimating coefficients for lambda = 1.292e+00\n",
      "estimating coefficients for lambda = 4.642e-01\n",
      "estimating coefficients for lambda = 1.668e-01\n",
      "estimating coefficients for lambda = 5.995e-02\n",
      "estimating coefficients for lambda = 2.154e-02\n",
      "estimating coefficients for lambda = 7.743e-03\n",
      "estimating coefficients for lambda = 2.783e-03\n",
      "estimating coefficients for lambda = 1.000e-03\n"
     ]
    }
   ],
   "source": [
    "params = {\n",
    "    'lambda_path' : np.logspace(-3, 1, 10)\n",
    "}\n",
    "models = elasticnet.train(data, params)"
   ]
  },
  {
   "cell_type": "code",
   "execution_count": 6,
   "metadata": {},
   "outputs": [
    {
     "data": {
      "text/plain": [
       "{'lambda_path': <list_reverseiterator at 0x7ffabd5358d0>,\n",
       " 'objective': 'l2',\n",
       " 'reg_alpha': 0.5,\n",
       " 'tol': 0.001,\n",
       " 'max_coord_descent_rounds': 1000,\n",
       " 'num_threads': 4}"
      ]
     },
     "execution_count": 6,
     "metadata": {},
     "output_type": "execute_result"
    }
   ],
   "source": [
    "models.params"
   ]
  },
  {
   "cell_type": "code",
   "execution_count": 7,
   "metadata": {},
   "outputs": [
    {
     "data": {
      "image/png": "[encoded data removed]",
      "text/plain": [
       "<Figure size 432x288 with 1 Axes>"
      ]
     },
     "metadata": {},
     "output_type": "display_data"
    }
   ],
   "source": [
    "intercepts_coefs = models.plot_intercept_coefs()"
   ]
  },
  {
   "cell_type": "code",
   "execution_count": 8,
   "metadata": {},
   "outputs": [
    {
     "data": {
      "text/html": [
       "<div>\n",
       "<style scoped>\n",
       "    .dataframe tbody tr th:only-of-type {\n",
       "        vertical-align: middle;\n",
       "    }\n",
       "\n",
       "    .dataframe tbody tr th {\n",
       "        vertical-align: top;\n",
       "    }\n",
       "\n",
       "    .dataframe thead th {\n",
       "        text-align: right;\n",
       "    }\n",
       "</style>\n",
       "<table border=\"1\" class=\"dataframe\">\n",
       "  <thead>\n",
       "    <tr style=\"text-align: right;\">\n",
       "      <th></th>\n",
       "      <th>coef_0</th>\n",
       "      <th>coef_1</th>\n",
       "      <th>coef_2</th>\n",
       "      <th>coef_3</th>\n",
       "      <th>coef_4</th>\n",
       "      <th>intercept</th>\n",
       "    </tr>\n",
       "    <tr>\n",
       "      <th>reg_lambda</th>\n",
       "      <th></th>\n",
       "      <th></th>\n",
       "      <th></th>\n",
       "      <th></th>\n",
       "      <th></th>\n",
       "      <th></th>\n",
       "    </tr>\n",
       "  </thead>\n",
       "  <tbody>\n",
       "    <tr>\n",
       "      <th>10.000000</th>\n",
       "      <td>0.0</td>\n",
       "      <td>0.000000</td>\n",
       "      <td>0.000000</td>\n",
       "      <td>0.0</td>\n",
       "      <td>0.000000</td>\n",
       "      <td>-1.0</td>\n",
       "    </tr>\n",
       "    <tr>\n",
       "      <th>3.593814</th>\n",
       "      <td>0.0</td>\n",
       "      <td>0.000000</td>\n",
       "      <td>0.000000</td>\n",
       "      <td>0.0</td>\n",
       "      <td>-0.802443</td>\n",
       "      <td>-1.0</td>\n",
       "    </tr>\n",
       "    <tr>\n",
       "      <th>1.291550</th>\n",
       "      <td>0.0</td>\n",
       "      <td>-0.376973</td>\n",
       "      <td>0.718519</td>\n",
       "      <td>0.0</td>\n",
       "      <td>-2.052236</td>\n",
       "      <td>-1.0</td>\n",
       "    </tr>\n",
       "    <tr>\n",
       "      <th>0.464159</th>\n",
       "      <td>0.0</td>\n",
       "      <td>-0.726523</td>\n",
       "      <td>1.369177</td>\n",
       "      <td>0.0</td>\n",
       "      <td>-3.062696</td>\n",
       "      <td>-1.0</td>\n",
       "    </tr>\n",
       "    <tr>\n",
       "      <th>0.166810</th>\n",
       "      <td>0.0</td>\n",
       "      <td>-0.893972</td>\n",
       "      <td>1.738770</td>\n",
       "      <td>0.0</td>\n",
       "      <td>-3.616022</td>\n",
       "      <td>-1.0</td>\n",
       "    </tr>\n",
       "    <tr>\n",
       "      <th>0.059948</th>\n",
       "      <td>0.0</td>\n",
       "      <td>-0.960856</td>\n",
       "      <td>1.900700</td>\n",
       "      <td>0.0</td>\n",
       "      <td>-3.854667</td>\n",
       "      <td>-1.0</td>\n",
       "    </tr>\n",
       "    <tr>\n",
       "      <th>0.021544</th>\n",
       "      <td>0.0</td>\n",
       "      <td>-0.985798</td>\n",
       "      <td>1.963558</td>\n",
       "      <td>0.0</td>\n",
       "      <td>-3.946751</td>\n",
       "      <td>-1.0</td>\n",
       "    </tr>\n",
       "    <tr>\n",
       "      <th>0.007743</th>\n",
       "      <td>0.0</td>\n",
       "      <td>-0.994879</td>\n",
       "      <td>1.986803</td>\n",
       "      <td>0.0</td>\n",
       "      <td>-3.980728</td>\n",
       "      <td>-1.0</td>\n",
       "    </tr>\n",
       "    <tr>\n",
       "      <th>0.002783</th>\n",
       "      <td>0.0</td>\n",
       "      <td>-0.998157</td>\n",
       "      <td>1.995244</td>\n",
       "      <td>0.0</td>\n",
       "      <td>-3.993056</td>\n",
       "      <td>-1.0</td>\n",
       "    </tr>\n",
       "    <tr>\n",
       "      <th>0.001000</th>\n",
       "      <td>0.0</td>\n",
       "      <td>-0.999337</td>\n",
       "      <td>1.998289</td>\n",
       "      <td>0.0</td>\n",
       "      <td>-3.997502</td>\n",
       "      <td>-1.0</td>\n",
       "    </tr>\n",
       "  </tbody>\n",
       "</table>\n",
       "</div>"
      ],
      "text/plain": [
       "            coef_0    coef_1    coef_2  coef_3    coef_4  intercept\n",
       "reg_lambda                                                         \n",
       "10.000000      0.0  0.000000  0.000000     0.0  0.000000       -1.0\n",
       "3.593814       0.0  0.000000  0.000000     0.0 -0.802443       -1.0\n",
       "1.291550       0.0 -0.376973  0.718519     0.0 -2.052236       -1.0\n",
       "0.464159       0.0 -0.726523  1.369177     0.0 -3.062696       -1.0\n",
       "0.166810       0.0 -0.893972  1.738770     0.0 -3.616022       -1.0\n",
       "0.059948       0.0 -0.960856  1.900700     0.0 -3.854667       -1.0\n",
       "0.021544       0.0 -0.985798  1.963558     0.0 -3.946751       -1.0\n",
       "0.007743       0.0 -0.994879  1.986803     0.0 -3.980728       -1.0\n",
       "0.002783       0.0 -0.998157  1.995244     0.0 -3.993056       -1.0\n",
       "0.001000       0.0 -0.999337  1.998289     0.0 -3.997502       -1.0"
      ]
     },
     "metadata": {},
     "output_type": "display_data"
    }
   ],
   "source": [
    "display(intercepts_coefs)"
   ]
  }
 ],
 "metadata": {
  "kernelspec": {
   "display_name": "Python 3",
   "language": "python",
   "name": "python3"
  },
  "language_info": {
   "codemirror_mode": {
    "name": "ipython",
    "version": 3
   },
   "file_extension": ".py",
   "mimetype": "text/x-python",
   "name": "python",
   "nbconvert_exporter": "python",
   "pygments_lexer": "ipython3",
   "version": "3.6.5"
  }
 },
 "nbformat": 4,
 "nbformat_minor": 2
}
