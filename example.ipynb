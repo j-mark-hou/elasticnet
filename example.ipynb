{
 "cells": [
  {
   "cell_type": "code",
   "execution_count": 1,
   "metadata": {},
   "outputs": [],
   "source": [
    "%load_ext autoreload\n",
    "%autoreload 2\n",
    "%matplotlib inline"
   ]
  },
  {
   "cell_type": "code",
   "execution_count": 2,
   "metadata": {},
   "outputs": [],
   "source": [
    "import elasticnet\n",
    "import numpy as np"
   ]
  },
  {
   "cell_type": "code",
   "execution_count": 3,
   "metadata": {},
   "outputs": [],
   "source": [
    "# data\n",
    "N,D = 100, 5\n",
    "x = np.random.uniform(size=(N,D))\n",
    "# compute y.  coefs are [0, -1, 2, 0, -4, 5, 0, -7, -8, ...]\n",
    "true_intercept = -1\n",
    "true_params = []\n",
    "y = np.zeros(N) + true_intercept\n",
    "for j in range(D):\n",
    "    jmod3 = j%3\n",
    "    if jmod3==0:   coef = 0\n",
    "    elif jmod3==1: coef = -j\n",
    "    else:          coef = j\n",
    "    true_params.append(coef)\n",
    "    y += ((x[:,j]- x[:,j].mean()) / x[:,j].std()) * coef"
   ]
  },
  {
   "cell_type": "code",
   "execution_count": 4,
   "metadata": {},
   "outputs": [
    {
     "data": {
      "text/plain": [
       "array([0.48872954, 0.48382114, 0.49371595, 0.50040892, 0.51652993])"
      ]
     },
     "metadata": {},
     "output_type": "display_data"
    },
    {
     "data": {
      "text/plain": [
       "array([0.29484602, 0.27532559, 0.28250249, 0.28161934, 0.27942499])"
      ]
     },
     "metadata": {},
     "output_type": "display_data"
    }
   ],
   "source": [
    "#  construct the data\n",
    "data = elasticnet.Data(x,y, num_threads=4)\n",
    "\n",
    "# look at means and stds of the standardized data\n",
    "display(data.get_means())\n",
    "display(data.get_stds())"
   ]
  },
  {
   "cell_type": "code",
   "execution_count": 5,
   "metadata": {},
   "outputs": [
    {
     "name": "stdout",
     "output_type": "stream",
     "text": [
      "estimating coefficients for lambda = 1.000e+01\n",
      "estimating coefficients for lambda = 3.594e+00\n",
      "estimating coefficients for lambda = 1.292e+00\n",
      "estimating coefficients for lambda = 4.642e-01\n",
      "estimating coefficients for lambda = 1.668e-01\n",
      "estimating coefficients for lambda = 5.995e-02\n",
      "estimating coefficients for lambda = 2.154e-02\n",
      "estimating coefficients for lambda = 7.743e-03\n",
      "estimating coefficients for lambda = 2.783e-03\n",
      "estimating coefficients for lambda = 1.000e-03\n"
     ]
    }
   ],
   "source": [
    "params = {\n",
    "    'lambda_path' : np.logspace(-3, 1, 10)\n",
    "}\n",
    "models = elasticnet.train(data, params)"
   ]
  },
  {
   "cell_type": "code",
   "execution_count": 6,
   "metadata": {},
   "outputs": [
    {
     "data": {
      "text/plain": [
       "{'lambda_path': <list_reverseiterator at 0x7f8f94978978>,\n",
       " 'objective': 'l2',\n",
       " 'reg_alpha': 0.5,\n",
       " 'tol': 0.001,\n",
       " 'max_coord_descent_rounds': 1000,\n",
       " 'num_threads': 4}"
      ]
     },
     "execution_count": 6,
     "metadata": {},
     "output_type": "execute_result"
    }
   ],
   "source": [
    "models.params"
   ]
  },
  {
   "cell_type": "code",
   "execution_count": 7,
   "metadata": {},
   "outputs": [
    {
     "data": {
      "image/png": "[encoded data removed]",
      "text/plain": [
       "<Figure size 432x288 with 1 Axes>"
      ]
     },
     "metadata": {},
     "output_type": "display_data"
    }
   ],
   "source": [
    "intercepts_coefs = models.plot_intercept_coefs()"
   ]
  },
  {
   "cell_type": "code",
   "execution_count": 8,
   "metadata": {},
   "outputs": [
    {
     "data": {
      "text/html": [
       "<div>\n",
       "<style scoped>\n",
       "    .dataframe tbody tr th:only-of-type {\n",
       "        vertical-align: middle;\n",
       "    }\n",
       "\n",
       "    .dataframe tbody tr th {\n",
       "        vertical-align: top;\n",
       "    }\n",
       "\n",
       "    .dataframe thead th {\n",
       "        text-align: right;\n",
       "    }\n",
       "</style>\n",
       "<table border=\"1\" class=\"dataframe\">\n",
       "  <thead>\n",
       "    <tr style=\"text-align: right;\">\n",
       "      <th></th>\n",
       "      <th>coef_0</th>\n",
       "      <th>coef_1</th>\n",
       "      <th>coef_2</th>\n",
       "      <th>coef_3</th>\n",
       "      <th>coef_4</th>\n",
       "      <th>intercept</th>\n",
       "    </tr>\n",
       "    <tr>\n",
       "      <th>reg_lambda</th>\n",
       "      <th></th>\n",
       "      <th></th>\n",
       "      <th></th>\n",
       "      <th></th>\n",
       "      <th></th>\n",
       "      <th></th>\n",
       "    </tr>\n",
       "  </thead>\n",
       "  <tbody>\n",
       "    <tr>\n",
       "      <th>10.000000</th>\n",
       "      <td>0.0</td>\n",
       "      <td>0.000000</td>\n",
       "      <td>0.000000</td>\n",
       "      <td>0.0</td>\n",
       "      <td>0.000000</td>\n",
       "      <td>-1.0</td>\n",
       "    </tr>\n",
       "    <tr>\n",
       "      <th>3.593814</th>\n",
       "      <td>0.0</td>\n",
       "      <td>0.000000</td>\n",
       "      <td>0.000000</td>\n",
       "      <td>0.0</td>\n",
       "      <td>-0.717500</td>\n",
       "      <td>-1.0</td>\n",
       "    </tr>\n",
       "    <tr>\n",
       "      <th>1.291550</th>\n",
       "      <td>0.0</td>\n",
       "      <td>-0.159923</td>\n",
       "      <td>0.699893</td>\n",
       "      <td>0.0</td>\n",
       "      <td>-1.957734</td>\n",
       "      <td>-1.0</td>\n",
       "    </tr>\n",
       "    <tr>\n",
       "      <th>0.464159</th>\n",
       "      <td>0.0</td>\n",
       "      <td>-0.586972</td>\n",
       "      <td>1.354792</td>\n",
       "      <td>0.0</td>\n",
       "      <td>-3.004993</td>\n",
       "      <td>-1.0</td>\n",
       "    </tr>\n",
       "    <tr>\n",
       "      <th>0.166810</th>\n",
       "      <td>0.0</td>\n",
       "      <td>-0.828941</td>\n",
       "      <td>1.731473</td>\n",
       "      <td>0.0</td>\n",
       "      <td>-3.589925</td>\n",
       "      <td>-1.0</td>\n",
       "    </tr>\n",
       "    <tr>\n",
       "      <th>0.059948</th>\n",
       "      <td>0.0</td>\n",
       "      <td>-0.934962</td>\n",
       "      <td>1.897694</td>\n",
       "      <td>0.0</td>\n",
       "      <td>-3.844413</td>\n",
       "      <td>-1.0</td>\n",
       "    </tr>\n",
       "    <tr>\n",
       "      <th>0.021544</th>\n",
       "      <td>0.0</td>\n",
       "      <td>-0.976130</td>\n",
       "      <td>1.962422</td>\n",
       "      <td>0.0</td>\n",
       "      <td>-3.942942</td>\n",
       "      <td>-1.0</td>\n",
       "    </tr>\n",
       "    <tr>\n",
       "      <th>0.007743</th>\n",
       "      <td>0.0</td>\n",
       "      <td>-0.991355</td>\n",
       "      <td>1.986387</td>\n",
       "      <td>0.0</td>\n",
       "      <td>-3.979342</td>\n",
       "      <td>-1.0</td>\n",
       "    </tr>\n",
       "    <tr>\n",
       "      <th>0.002783</th>\n",
       "      <td>0.0</td>\n",
       "      <td>-0.996884</td>\n",
       "      <td>1.995094</td>\n",
       "      <td>0.0</td>\n",
       "      <td>-3.992556</td>\n",
       "      <td>-1.0</td>\n",
       "    </tr>\n",
       "    <tr>\n",
       "      <th>0.001000</th>\n",
       "      <td>0.0</td>\n",
       "      <td>-0.998879</td>\n",
       "      <td>1.998235</td>\n",
       "      <td>0.0</td>\n",
       "      <td>-3.997322</td>\n",
       "      <td>-1.0</td>\n",
       "    </tr>\n",
       "  </tbody>\n",
       "</table>\n",
       "</div>"
      ],
      "text/plain": [
       "            coef_0    coef_1    coef_2  coef_3    coef_4  intercept\n",
       "reg_lambda                                                         \n",
       "10.000000      0.0  0.000000  0.000000     0.0  0.000000       -1.0\n",
       "3.593814       0.0  0.000000  0.000000     0.0 -0.717500       -1.0\n",
       "1.291550       0.0 -0.159923  0.699893     0.0 -1.957734       -1.0\n",
       "0.464159       0.0 -0.586972  1.354792     0.0 -3.004993       -1.0\n",
       "0.166810       0.0 -0.828941  1.731473     0.0 -3.589925       -1.0\n",
       "0.059948       0.0 -0.934962  1.897694     0.0 -3.844413       -1.0\n",
       "0.021544       0.0 -0.976130  1.962422     0.0 -3.942942       -1.0\n",
       "0.007743       0.0 -0.991355  1.986387     0.0 -3.979342       -1.0\n",
       "0.002783       0.0 -0.996884  1.995094     0.0 -3.992556       -1.0\n",
       "0.001000       0.0 -0.998879  1.998235     0.0 -3.997322       -1.0"
      ]
     },
     "metadata": {},
     "output_type": "display_data"
    }
   ],
   "source": [
    "display(intercepts_coefs)"
   ]
  }
 ],
 "metadata": {
  "kernelspec": {
   "display_name": "Python 3",
   "language": "python",
   "name": "python3"
  },
  "language_info": {
   "codemirror_mode": {
    "name": "ipython",
    "version": 3
   },
   "file_extension": ".py",
   "mimetype": "text/x-python",
   "name": "python",
   "nbconvert_exporter": "python",
   "pygments_lexer": "ipython3",
   "version": "3.6.5"
  }
 },
 "nbformat": 4,
 "nbformat_minor": 2
}
